{
  "nbformat": 4,
  "nbformat_minor": 0,
  "metadata": {
    "colab": {
      "name": "lithobot_train.ipynb",
      "provenance": [],
      "collapsed_sections": []
    },
    "kernelspec": {
      "name": "python3",
      "display_name": "Python 3"
    },
    "language_info": {
      "name": "python"
    }
  },
  "cells": [
    {
      "cell_type": "code",
      "source": [
        "import pandas as pd \n",
        "import numpy as np \n",
        "import os \n",
        "import pickle\n",
        "import matplotlib.pyplot as plt\n",
        "\n",
        "from sklearn.model_selection import train_test_split\n",
        "from sklearn import model_selection\n",
        "from sklearn.ensemble import RandomForestClassifier\n",
        "from sklearn.datasets import make_classification\n",
        "\n",
        "from sklearn.metrics import confusion_matrix, ConfusionMatrixDisplay\n",
        "from sklearn.metrics import accuracy_score\n",
        "from sklearn.metrics import classification_report\n",
        "from sklearn import metrics\n",
        "\n",
        "from sklearn.metrics import ConfusionMatrixDisplay, confusion_matrix\n",
        "\n",
        "\n"
      ],
      "metadata": {
        "id": "psCewTx-G-m7"
      },
      "execution_count": 41,
      "outputs": []
    },
    {
      "cell_type": "code",
      "source": [
        "def dataloader():\n",
        "  import os \n",
        "  os.mkdir('Data')\n",
        "\n",
        "  import requests\n",
        "\n",
        "  url = 'https://github.com/bolgebrygg/Force-2020-Machine-Learning-competition/raw/master/lithology_competition/data/train.zip'\n",
        "  r = requests.get(url, allow_redirects=True)\n",
        "  print('Writing')\n",
        "  open('train.zip', 'wb').write(r.content)\n",
        "\n",
        "  print('Downloaded Zip file from XEEK server')\n",
        "\n",
        "  import zipfile\n",
        "  with zipfile.ZipFile('train.zip', 'r') as zip_ref:\n",
        "      zip_ref.extractall('Data')\n",
        "  print('Extracted in folder named Data')\n",
        "\n",
        "  import zipfile\n",
        "  with zipfile.ZipFile('train.zip', 'r') as zip_ref:\n",
        "      zip_ref.extractall('Data')\n",
        "  print('Extracted in folder named Data')\n",
        "\n",
        "  import pandas as pd \n",
        "\n",
        "  raw_data = pd.read_csv(\"Data/train.csv\", sep = ';')\n",
        "\n",
        "  lithology_keys = {30000: 'Sandstone',\n",
        "                 65030: 'Sandstone/Shale',\n",
        "                 65000: 'Shale',\n",
        "                 80000: 'Marl',\n",
        "                 74000: 'Dolomite',\n",
        "                 70000: 'Limestone',\n",
        "                 70032: 'Chalk',\n",
        "                 88000: 'Halite',\n",
        "                 86000: 'Anhydrite',\n",
        "                 99000: 'Tuff',\n",
        "                 90000: 'Coal',\n",
        "                 93000: 'Basement'}\n",
        "\n",
        "\n",
        "  raw_data = raw_data.replace({\"FORCE_2020_LITHOFACIES_LITHOLOGY\": lithology_keys})\n",
        "\n",
        "  raw_data.rename(columns={'FORCE_2020_LITHOFACIES_LITHOLOGY':'Lithofacies'}, inplace=True)\n",
        "\n",
        "  raw_data.rename(columns={'FORCE_2020_LITHOFACIES_CONFIDENCE':'Confidence'}, inplace=True)\n",
        "\n",
        "  return raw_data  "
      ],
      "metadata": {
        "id": "qJAAk8bT4tzv"
      },
      "execution_count": 1,
      "outputs": []
    },
    {
      "cell_type": "code",
      "source": [
        ""
      ],
      "metadata": {
        "id": "_eFZEDmOT9D7"
      },
      "execution_count": null,
      "outputs": []
    },
    {
      "cell_type": "code",
      "source": [
        "raw_data = dataloader()"
      ],
      "metadata": {
        "id": "vi7rsAA37ngc"
      },
      "execution_count": null,
      "outputs": []
    },
    {
      "cell_type": "code",
      "source": [
        "def thresh_u_l(raw_data):\n",
        "  # import numpy as np  \n",
        "    \n",
        "  raw_data['CALI'] = np.array(np.where((raw_data['CALI'] <= 0) | (raw_data['CALI'] >=30), np.nan, raw_data['CALI']))\n",
        "  raw_data['RSHA'] = np.array(np.where((raw_data['RSHA'] <= 0) | (raw_data['RSHA'] >=100), np.nan, raw_data['RSHA']))\n",
        "  raw_data['RMED'] = np.array(np.where((raw_data['RMED'] <= 0) | (raw_data['RMED'] >=100), np.nan, raw_data['RMED']))\n",
        "  raw_data['RDEP'] =np.array(np.where((raw_data['RDEP'] <= 0) | (raw_data['RDEP'] >= 100 ), np.nan, raw_data['RDEP']  ))\n",
        "  raw_data['RHOB'] = np.array(np.where((raw_data['RHOB'] <= 1) | (raw_data['RHOB'] >= 3), np.nan, raw_data['RHOB'])  )\n",
        "  raw_data['GR'] = np.array(np.where((raw_data['GR'] <= 0) | (raw_data['GR'] >=200), np.nan, raw_data['GR']))\n",
        "  raw_data['SGR'] = np.array(np.where((raw_data['SGR'] <= 0) | (raw_data['SGR'] >=200), np.nan, raw_data['SGR']))\n",
        "  raw_data['NPHI'] = np.array(np.where((raw_data['NPHI'] <= 0) | (raw_data['NPHI'] >= 0.6), np.nan, raw_data['NPHI'])  )\n",
        "  raw_data['PEF'] =np.array(np.where((raw_data['PEF'] <=0 ) | (raw_data['PEF'] >=10 ), np.nan, raw_data['PEF']  ))\n",
        "  raw_data['DTC'] =np.array(np.where((raw_data['DTC'] <= 0) | (raw_data['DTC'] >=300 ), np.nan, raw_data['DTC']  ))\n",
        "  raw_data['SP'] =np.array(np.where((raw_data['SP'] <= -200) | (raw_data['SP'] >= 200), np.nan, raw_data['SP']  ))\n",
        "  raw_data['BS'] =np.array(np.where((raw_data['BS'] <= 0) | (raw_data['BS'] >=30 ), np.nan, raw_data['BS']  ))\n",
        "  raw_data['ROP'] =np.array(np.where((raw_data['ROP'] <= 0) | (raw_data['ROP'] >=60 ), np.nan, raw_data['ROP']  ))\n",
        "  raw_data['DTS'] =np.array(np.where((raw_data['DTS'] <= 0) | (raw_data['DTS'] >=300 ), np.nan, raw_data['DTS']  ))\n",
        "  raw_data['DCAL'] = np.array(np.where((raw_data['DCAL'] <= 0) | (raw_data['DCAL'] >=2), np.nan, raw_data['DCAL']))\n",
        "  raw_data['DRHO'] =np.array(np.where((raw_data['DRHO'] <= -0.1) | (raw_data['DRHO'] >=0.1 ), np.nan, raw_data['DRHO']  ))\n",
        "  raw_data['MUDWEIGHT'] =np.array(np.where((raw_data['MUDWEIGHT'] <= 0) | (raw_data['MUDWEIGHT'] >=1.5 ), np.nan, raw_data['MUDWEIGHT']  ))\n",
        "  raw_data['RMIC'] =np.array(np.where((raw_data['RMIC'] <= 0) | (raw_data['RMIC'] >=30 ), np.nan, raw_data['RMIC']  ))\n",
        "  raw_data['ROPA'] =np.array(np.where((raw_data['ROPA'] <= 0) | (raw_data['ROPA'] >=60 ), np.nan, raw_data['ROPA']  ))\n",
        "  raw_data['RXO'] =np.array(np.where((raw_data['RXO'] <= 0) | (raw_data['RXO'] >=20 ), np.nan, raw_data['RXO']  ))\n",
        "\n",
        "  return raw_data\n",
        "\n",
        "def convert_nan(raw_data):\n",
        "  # import pandas as pd \n",
        "  def replace_nan(x):\n",
        "    if pd.isnull(x):\n",
        "      return 9999\n",
        "    else:\n",
        "      return x\n",
        "\n",
        "  df = pd.DataFrame()\n",
        "  for header in ['CALI', 'RSHA', 'RMED', 'RDEP', 'RHOB', 'GR', 'SGR', 'NPHI', 'PEF',        'DTC', 'SP', 'BS', 'ROP', 'DTS', 'DCAL', 'DRHO', 'MUDWEIGHT', 'RMIC',        'ROPA', 'RXO' , 'Lithofacies']: \n",
        "    df[header] = raw_data[header].apply(replace_nan)\n",
        "\n",
        "  return df\n",
        "\n",
        "def preprocess(raw_data):\n",
        "  \n",
        "  raw_data = thresh_u_l(raw_data)\n",
        "  df = convert_nan(raw_data)\n",
        "\n",
        "  return df\n"
      ],
      "metadata": {
        "id": "duBVE1zF_TSC"
      },
      "execution_count": 38,
      "outputs": []
    },
    {
      "cell_type": "code",
      "source": [
        "df = preprocess(raw_data)"
      ],
      "metadata": {
        "id": "wdbT1FAbGHT6"
      },
      "execution_count": 26,
      "outputs": []
    },
    {
      "cell_type": "code",
      "source": [
        "df.columns"
      ],
      "metadata": {
        "colab": {
          "base_uri": "https://localhost:8080/"
        },
        "id": "0PgCH3-hHQLk",
        "outputId": "4cd12620-15b6-43ed-a0f2-cbe7518f6d9e"
      },
      "execution_count": 27,
      "outputs": [
        {
          "output_type": "execute_result",
          "data": {
            "text/plain": [
              "Index(['CALI', 'RSHA', 'RMED', 'RDEP', 'RHOB', 'GR', 'SGR', 'NPHI', 'PEF',\n",
              "       'DTC', 'SP', 'BS', 'ROP', 'DTS', 'DCAL', 'DRHO', 'MUDWEIGHT', 'RMIC',\n",
              "       'ROPA', 'RXO', 'Lithofacies'],\n",
              "      dtype='object')"
            ]
          },
          "metadata": {},
          "execution_count": 27
        }
      ]
    },
    {
      "cell_type": "code",
      "source": [
        "def train(df,header,model_name):\n",
        "    a = 0 \n",
        "    b = 100\n",
        "    test_sz = 9.99\n",
        "\n",
        "    X_train, X_test, Y_train, Y_test = train_test_split(df[header], df['Lithofacies'], random_state = int(b),\n",
        "                                                     test_size= (test_sz/10), stratify = df['Lithofacies'])\n",
        "    clf = RandomForestClassifier(n_estimators = 200, max_depth=70,  min_samples_split=2, min_samples_leaf=1,max_features=10, random_state=0)\n",
        "    clf.fit(X_train, Y_train)\n",
        "    ## Saving model\n",
        "    if not os.path.exists('Models'):\n",
        "        os.mkdir('Models')\n",
        "    outfile = open('Models/'+model_name,'ab')\n",
        "    pickle.dump(clf,outfile)\n",
        "    outfile.close()\n",
        "\n",
        "    predicted_output = clf.predict(X_train)\n",
        "    true_lithofacies = Y_train \n",
        "\n",
        "    cm = confusion_matrix(true_lithofacies, predicted_output)\n",
        "    cmp = ConfusionMatrixDisplay(cm) \n",
        "    fig, ax = plt.subplots(figsize=(10,10))\n",
        "    cmp.plot(ax=ax)\n",
        "    plt.show()\n",
        "\n",
        "    print(\"\\nTraining Accuracy:\", accuracy_score(true_lithofacies, predicted_output))\n",
        "    print(\"\\n -------------Training Classification Report-------------\\n\")\n",
        "    print(classification_report(true_lithofacies, predicted_output))\n",
        "    \n",
        "    # predicted_output = clf.predict(X_test)\n",
        "    # true_lithofacies = Y_test \n",
        "\n",
        "    # cm = confusion_matrix(true_lithofacies, predicted_output)\n",
        "    # cmp = ConfusionMatrixDisplay(cm) # , display_labels=np.arange(25))\n",
        "    # fig, ax = plt.subplots(figsize=(10,10))\n",
        "    # cmp.plot(ax=ax)\n",
        "\n",
        "    # print(\" test Accuracy:\", accuracy_score(true_lithofacies, predicted_output))\n",
        "    # print(\"\\n ------------- Test Classification Report-------------\\n\")\n",
        "    # print(classification_report(true_lithofacies, predicted_output))\n",
        "\n",
        "\n",
        "\n",
        "def train_model1(df):\n",
        "    # print('Training started')\n",
        "    comb1 = [   'CALI', 'RHOB', 'GR', 'SGR', 'NPHI', 'PEF', 'SP', 'BS', 'DCAL', 'DRHO', 'MUDWEIGHT', 'RMIC', 'RXO' ]\n",
        "    train(df,comb1,'Model_1')"
      ],
      "metadata": {
        "id": "QTC7vU1BObew"
      },
      "execution_count": 42,
      "outputs": []
    },
    {
      "cell_type": "code",
      "source": [
        "train_model1(df)"
      ],
      "metadata": {
        "colab": {
          "base_uri": "https://localhost:8080/",
          "height": 978
        },
        "id": "WkX74I9JTnha",
        "outputId": "f09e542d-d9e9-4779-b3a6-30dca9158d03"
      },
      "execution_count": 43,
      "outputs": [
        {
          "output_type": "display_data",
          "data": {
            "text/plain": [
              "<Figure size 720x720 with 2 Axes>"
            ],
            "image/png": "[encoded data removed]"
          },
          "metadata": {
            "needs_background": "light"
          }
        },
        {
          "output_type": "stream",
          "name": "stdout",
          "text": [
            "\n",
            "Training Accuracy: 1.0\n",
            "\n",
            " -------------Training Classification Report-------------\n",
            "\n",
            "                 precision    recall  f1-score   support\n",
            "\n",
            "      Anhydrite       1.00      1.00      1.00         1\n",
            "          Chalk       1.00      1.00      1.00        11\n",
            "           Coal       1.00      1.00      1.00         4\n",
            "       Dolomite       1.00      1.00      1.00         2\n",
            "         Halite       1.00      1.00      1.00         8\n",
            "      Limestone       1.00      1.00      1.00        56\n",
            "           Marl       1.00      1.00      1.00        33\n",
            "      Sandstone       1.00      1.00      1.00       169\n",
            "Sandstone/Shale       1.00      1.00      1.00       150\n",
            "          Shale       1.00      1.00      1.00       721\n",
            "           Tuff       1.00      1.00      1.00        15\n",
            "\n",
            "       accuracy                           1.00      1170\n",
            "      macro avg       1.00      1.00      1.00      1170\n",
            "   weighted avg       1.00      1.00      1.00      1170\n",
            "\n"
          ]
        }
      ]
    },
    {
      "cell_type": "code",
      "source": [
        ""
      ],
      "metadata": {
        "id": "IwC-3XXsXzcp"
      },
      "execution_count": null,
      "outputs": []
    },
    {
      "cell_type": "code",
      "source": [
        "import os \n",
        "os.mkdir('Data')\n"
      ],
      "metadata": {
        "id": "Rra1IEczvnEg"
      },
      "execution_count": 1,
      "outputs": []
    },
    {
      "cell_type": "code",
      "execution_count": 2,
      "metadata": {
        "colab": {
          "base_uri": "https://localhost:8080/"
        },
        "id": "sBo9Lmy9tOBn",
        "outputId": "91fe22b7-659d-4cb1-8161-14c454ecc012"
      },
      "outputs": [
        {
          "output_type": "stream",
          "name": "stdout",
          "text": [
            "Writing\n",
            "Downloaded\n"
          ]
        }
      ],
      "source": [
        "### Loadng data\n",
        "import requests\n",
        "\n",
        "url = 'https://github.com/bolgebrygg/Force-2020-Machine-Learning-competition/raw/master/lithology_competition/data/train.zip'\n",
        "r = requests.get(url, allow_redirects=True)\n",
        "print('Writing')\n",
        "open('train.zip', 'wb').write(r.content)\n",
        "\n",
        "print('Downloaded')"
      ]
    },
    {
      "cell_type": "code",
      "source": [
        "!ls"
      ],
      "metadata": {
        "colab": {
          "base_uri": "https://localhost:8080/"
        },
        "id": "zS_MfojsyiAF",
        "outputId": "edc33fe7-c5e4-4c9c-b825-9a88fc9875f6"
      },
      "execution_count": 3,
      "outputs": [
        {
          "output_type": "stream",
          "name": "stdout",
          "text": [
            "Data  sample_data  train.zip\n"
          ]
        }
      ]
    },
    {
      "cell_type": "code",
      "source": [
        ""
      ],
      "metadata": {
        "id": "VZC56kiJvctY"
      },
      "execution_count": 8,
      "outputs": []
    },
    {
      "cell_type": "code",
      "source": [
        "import zipfile\n",
        "with zipfile.ZipFile('train.zip', 'r') as zip_ref:\n",
        "    zip_ref.extractall('Data')\n",
        "print('Extracted in folder named Data')"
      ],
      "metadata": {
        "colab": {
          "base_uri": "https://localhost:8080/"
        },
        "id": "oAEKMHOstrct",
        "outputId": "affc13be-281a-4f8f-e865-247469b764e1"
      },
      "execution_count": 4,
      "outputs": [
        {
          "output_type": "stream",
          "name": "stdout",
          "text": [
            "Extracted\n"
          ]
        }
      ]
    },
    {
      "cell_type": "code",
      "source": [
        "import pandas as pd \n",
        "import matplotlib.pyplot as plt\n",
        "import numpy as np\n",
        "from sklearn.metrics import mean_squared_error, r2_score\n",
        "from sklearn.model_selection import train_test_split"
      ],
      "metadata": {
        "id": "rs-vLnmIty6c"
      },
      "execution_count": 6,
      "outputs": []
    },
    {
      "cell_type": "code",
      "source": [
        "ADM = pd.read_csv(\"Data/train.csv\", sep = ';')"
      ],
      "metadata": {
        "id": "vs8EecoQt7os"
      },
      "execution_count": 7,
      "outputs": []
    },
    {
      "cell_type": "code",
      "source": [
        "!ls"
      ],
      "metadata": {
        "colab": {
          "base_uri": "https://localhost:8080/"
        },
        "id": "u61UVhYzy5BQ",
        "outputId": "a36e6a8a-bab8-4f37-b6b0-cc7dd0f9a9ab"
      },
      "execution_count": 8,
      "outputs": [
        {
          "output_type": "stream",
          "name": "stdout",
          "text": [
            "Data  sample_data  train.zip\n"
          ]
        }
      ]
    }
  ]
}